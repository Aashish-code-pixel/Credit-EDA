import pandas as pd
import matplotlib.pyplot as plt
import seaborn as sns

# Load dataset
df = pd.read_csv("../data/cleaned_credit_data.csv")

# Show first few rows
df.head()

# Check target variable balance
sns.countplot(x="default", data=df)
plt.show()
